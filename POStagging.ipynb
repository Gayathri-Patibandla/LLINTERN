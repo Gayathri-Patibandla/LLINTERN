{
  "nbformat": 4,
  "nbformat_minor": 0,
  "metadata": {
    "colab": {
      "provenance": [],
      "authorship_tag": "ABX9TyOIRV4tE4prUULFyzRCOgIR",
      "include_colab_link": true
    },
    "kernelspec": {
      "name": "python3",
      "display_name": "Python 3"
    },
    "language_info": {
      "name": "python"
    }
  },
  "cells": [
    {
      "cell_type": "markdown",
      "metadata": {
        "id": "view-in-github",
        "colab_type": "text"
      },
      "source": [
        "<a href=\"https://colab.research.google.com/github/Gayathri-Patibandla/LLINTERN/blob/main/POStagging.ipynb\" target=\"_parent\"><img src=\"https://colab.research.google.com/assets/colab-badge.svg\" alt=\"Open In Colab\"/></a>"
      ]
    },
    {
      "cell_type": "markdown",
      "source": [
        "**POS TAGGING USING HIDDEN MARKOV MODEL (HMM).**"
      ],
      "metadata": {
        "id": "dFZ0Uy9dByRt"
      }
    },
    {
      "cell_type": "markdown",
      "source": [
        "*  Importing the necessary libraries and modules for the Hidden Markov Model\n",
        "(HMM) implementation using NLTK. Specifically, it imports the NLTK library, the Brown Corpus dataset, and the HiddenMarkovModelTrainer class from the NLTK tag module."
      ],
      "metadata": {
        "id": "Gnltum6n9VR-"
      }
    },
    {
      "cell_type": "code",
      "source": [
        "import nltk\n",
        "from nltk.corpus import brown\n",
        "from nltk.tag import hmm"
      ],
      "metadata": {
        "id": "64CgTbE41r58"
      },
      "execution_count": 3,
      "outputs": []
    },
    {
      "cell_type": "markdown",
      "source": [
        "* Downloading the universal tagset resource from NLTK. The universal tagset is a simplified tagset that is commonly used for part-of-speech tagging tasks."
      ],
      "metadata": {
        "id": "eAscEeEb-tFG"
      }
    },
    {
      "cell_type": "code",
      "source": [
        "nltk.download('universal_tagset')"
      ],
      "metadata": {
        "colab": {
          "base_uri": "https://localhost:8080/"
        },
        "id": "tBShTxra1tMv",
        "outputId": "94ec89cb-b8c1-48dc-f583-df3738a831db"
      },
      "execution_count": 4,
      "outputs": [
        {
          "output_type": "stream",
          "name": "stderr",
          "text": [
            "[nltk_data] Downloading package universal_tagset to /root/nltk_data...\n",
            "[nltk_data]   Package universal_tagset is already up-to-date!\n"
          ]
        },
        {
          "output_type": "execute_result",
          "data": {
            "text/plain": [
              "True"
            ]
          },
          "metadata": {},
          "execution_count": 4
        }
      ]
    },
    {
      "cell_type": "markdown",
      "source": [
        "* Downloading the Brown Corpus dataset from NLTK. The Brown Corpus is a collection of text samples that have been manually annotated with part-of-speech tags."
      ],
      "metadata": {
        "id": "r89MYhMp-94c"
      }
    },
    {
      "cell_type": "code",
      "source": [
        "nltk.download('brown')"
      ],
      "metadata": {
        "colab": {
          "base_uri": "https://localhost:8080/"
        },
        "id": "4IbTqj4l1woS",
        "outputId": "71d17cc3-7b90-448d-e856-2483cd81a954"
      },
      "execution_count": 5,
      "outputs": [
        {
          "output_type": "stream",
          "name": "stderr",
          "text": [
            "[nltk_data] Downloading package brown to /root/nltk_data...\n",
            "[nltk_data]   Package brown is already up-to-date!\n"
          ]
        },
        {
          "output_type": "execute_result",
          "data": {
            "text/plain": [
              "True"
            ]
          },
          "metadata": {},
          "execution_count": 5
        }
      ]
    },
    {
      "cell_type": "markdown",
      "source": [
        "* Retrieving the first 10 tagged sentences from the Brown Corpus dataset using the universal tagset."
      ],
      "metadata": {
        "id": "-2Wij7PI_TCk"
      }
    },
    {
      "cell_type": "code",
      "source": [
        "tagged_sentences_sample = brown.tagged_sents(tagset='universal')[:10]\n",
        "for sentence in tagged_sentences_sample:\n",
        "    print(sentence)"
      ],
      "metadata": {
        "colab": {
          "base_uri": "https://localhost:8080/"
        },
        "id": "P6aY6PMz5kJB",
        "outputId": "336e7054-c775-45e1-c137-e66df4f1bddc"
      },
      "execution_count": 14,
      "outputs": [
        {
          "output_type": "stream",
          "name": "stdout",
          "text": [
            "[('The', 'DET'), ('Fulton', 'NOUN'), ('County', 'NOUN'), ('Grand', 'ADJ'), ('Jury', 'NOUN'), ('said', 'VERB'), ('Friday', 'NOUN'), ('an', 'DET'), ('investigation', 'NOUN'), ('of', 'ADP'), (\"Atlanta's\", 'NOUN'), ('recent', 'ADJ'), ('primary', 'NOUN'), ('election', 'NOUN'), ('produced', 'VERB'), ('``', '.'), ('no', 'DET'), ('evidence', 'NOUN'), (\"''\", '.'), ('that', 'ADP'), ('any', 'DET'), ('irregularities', 'NOUN'), ('took', 'VERB'), ('place', 'NOUN'), ('.', '.')]\n",
            "[('The', 'DET'), ('jury', 'NOUN'), ('further', 'ADV'), ('said', 'VERB'), ('in', 'ADP'), ('term-end', 'NOUN'), ('presentments', 'NOUN'), ('that', 'ADP'), ('the', 'DET'), ('City', 'NOUN'), ('Executive', 'ADJ'), ('Committee', 'NOUN'), (',', '.'), ('which', 'DET'), ('had', 'VERB'), ('over-all', 'ADJ'), ('charge', 'NOUN'), ('of', 'ADP'), ('the', 'DET'), ('election', 'NOUN'), (',', '.'), ('``', '.'), ('deserves', 'VERB'), ('the', 'DET'), ('praise', 'NOUN'), ('and', 'CONJ'), ('thanks', 'NOUN'), ('of', 'ADP'), ('the', 'DET'), ('City', 'NOUN'), ('of', 'ADP'), ('Atlanta', 'NOUN'), (\"''\", '.'), ('for', 'ADP'), ('the', 'DET'), ('manner', 'NOUN'), ('in', 'ADP'), ('which', 'DET'), ('the', 'DET'), ('election', 'NOUN'), ('was', 'VERB'), ('conducted', 'VERB'), ('.', '.')]\n",
            "[('The', 'DET'), ('September-October', 'NOUN'), ('term', 'NOUN'), ('jury', 'NOUN'), ('had', 'VERB'), ('been', 'VERB'), ('charged', 'VERB'), ('by', 'ADP'), ('Fulton', 'NOUN'), ('Superior', 'ADJ'), ('Court', 'NOUN'), ('Judge', 'NOUN'), ('Durwood', 'NOUN'), ('Pye', 'NOUN'), ('to', 'PRT'), ('investigate', 'VERB'), ('reports', 'NOUN'), ('of', 'ADP'), ('possible', 'ADJ'), ('``', '.'), ('irregularities', 'NOUN'), (\"''\", '.'), ('in', 'ADP'), ('the', 'DET'), ('hard-fought', 'ADJ'), ('primary', 'NOUN'), ('which', 'DET'), ('was', 'VERB'), ('won', 'VERB'), ('by', 'ADP'), ('Mayor-nominate', 'NOUN'), ('Ivan', 'NOUN'), ('Allen', 'NOUN'), ('Jr.', 'NOUN'), ('.', '.')]\n",
            "[('``', '.'), ('Only', 'ADV'), ('a', 'DET'), ('relative', 'ADJ'), ('handful', 'NOUN'), ('of', 'ADP'), ('such', 'ADJ'), ('reports', 'NOUN'), ('was', 'VERB'), ('received', 'VERB'), (\"''\", '.'), (',', '.'), ('the', 'DET'), ('jury', 'NOUN'), ('said', 'VERB'), (',', '.'), ('``', '.'), ('considering', 'ADP'), ('the', 'DET'), ('widespread', 'ADJ'), ('interest', 'NOUN'), ('in', 'ADP'), ('the', 'DET'), ('election', 'NOUN'), (',', '.'), ('the', 'DET'), ('number', 'NOUN'), ('of', 'ADP'), ('voters', 'NOUN'), ('and', 'CONJ'), ('the', 'DET'), ('size', 'NOUN'), ('of', 'ADP'), ('this', 'DET'), ('city', 'NOUN'), (\"''\", '.'), ('.', '.')]\n",
            "[('The', 'DET'), ('jury', 'NOUN'), ('said', 'VERB'), ('it', 'PRON'), ('did', 'VERB'), ('find', 'VERB'), ('that', 'ADP'), ('many', 'ADJ'), ('of', 'ADP'), (\"Georgia's\", 'NOUN'), ('registration', 'NOUN'), ('and', 'CONJ'), ('election', 'NOUN'), ('laws', 'NOUN'), ('``', '.'), ('are', 'VERB'), ('outmoded', 'ADJ'), ('or', 'CONJ'), ('inadequate', 'ADJ'), ('and', 'CONJ'), ('often', 'ADV'), ('ambiguous', 'ADJ'), (\"''\", '.'), ('.', '.')]\n",
            "[('It', 'PRON'), ('recommended', 'VERB'), ('that', 'ADP'), ('Fulton', 'NOUN'), ('legislators', 'NOUN'), ('act', 'VERB'), ('``', '.'), ('to', 'PRT'), ('have', 'VERB'), ('these', 'DET'), ('laws', 'NOUN'), ('studied', 'VERB'), ('and', 'CONJ'), ('revised', 'VERB'), ('to', 'ADP'), ('the', 'DET'), ('end', 'NOUN'), ('of', 'ADP'), ('modernizing', 'VERB'), ('and', 'CONJ'), ('improving', 'VERB'), ('them', 'PRON'), (\"''\", '.'), ('.', '.')]\n",
            "[('The', 'DET'), ('grand', 'ADJ'), ('jury', 'NOUN'), ('commented', 'VERB'), ('on', 'ADP'), ('a', 'DET'), ('number', 'NOUN'), ('of', 'ADP'), ('other', 'ADJ'), ('topics', 'NOUN'), (',', '.'), ('among', 'ADP'), ('them', 'PRON'), ('the', 'DET'), ('Atlanta', 'NOUN'), ('and', 'CONJ'), ('Fulton', 'NOUN'), ('County', 'NOUN'), ('purchasing', 'VERB'), ('departments', 'NOUN'), ('which', 'DET'), ('it', 'PRON'), ('said', 'VERB'), ('``', '.'), ('are', 'VERB'), ('well', 'ADV'), ('operated', 'VERB'), ('and', 'CONJ'), ('follow', 'VERB'), ('generally', 'ADV'), ('accepted', 'VERB'), ('practices', 'NOUN'), ('which', 'DET'), ('inure', 'VERB'), ('to', 'ADP'), ('the', 'DET'), ('best', 'ADJ'), ('interest', 'NOUN'), ('of', 'ADP'), ('both', 'DET'), ('governments', 'NOUN'), (\"''\", '.'), ('.', '.')]\n",
            "[('Merger', 'NOUN'), ('proposed', 'VERB')]\n",
            "[('However', 'ADV'), (',', '.'), ('the', 'DET'), ('jury', 'NOUN'), ('said', 'VERB'), ('it', 'PRON'), ('believes', 'VERB'), ('``', '.'), ('these', 'DET'), ('two', 'NUM'), ('offices', 'NOUN'), ('should', 'VERB'), ('be', 'VERB'), ('combined', 'VERB'), ('to', 'PRT'), ('achieve', 'VERB'), ('greater', 'ADJ'), ('efficiency', 'NOUN'), ('and', 'CONJ'), ('reduce', 'VERB'), ('the', 'DET'), ('cost', 'NOUN'), ('of', 'ADP'), ('administration', 'NOUN'), (\"''\", '.'), ('.', '.')]\n",
            "[('The', 'DET'), ('City', 'NOUN'), ('Purchasing', 'VERB'), ('Department', 'NOUN'), (',', '.'), ('the', 'DET'), ('jury', 'NOUN'), ('said', 'VERB'), (',', '.'), ('``', '.'), ('is', 'VERB'), ('lacking', 'VERB'), ('in', 'ADP'), ('experienced', 'VERB'), ('clerical', 'ADJ'), ('personnel', 'NOUN'), ('as', 'ADP'), ('a', 'DET'), ('result', 'NOUN'), ('of', 'ADP'), ('city', 'NOUN'), ('personnel', 'NOUN'), ('policies', 'NOUN'), (\"''\", '.'), ('.', '.')]\n"
          ]
        }
      ]
    },
    {
      "cell_type": "markdown",
      "source": [
        "* Retrieving the tagged sentences from the Brown Corpus dataset using the universal tagset. Each sentence in the dataset is represented as a list of (word, tag) tuples."
      ],
      "metadata": {
        "id": "icm80OyD_tVd"
      }
    },
    {
      "cell_type": "code",
      "source": [
        "tagged_sentences=brown.tagged_sents(tagset='universal')"
      ],
      "metadata": {
        "id": "JQ5BLJf41z1W"
      },
      "execution_count": 10,
      "outputs": []
    },
    {
      "cell_type": "markdown",
      "source": [
        "* Splitting the tagged sentences into training and testing sets. It uses 80% of the data for training and 20% for testing."
      ],
      "metadata": {
        "id": "nlRGP9cxADWo"
      }
    },
    {
      "cell_type": "code",
      "source": [
        "train_size=int(0.8*len(tagged_sentences))\n",
        "train_sents=tagged_sentences[:train_size]\n",
        "test_sents=tagged_sentences[train_size:]"
      ],
      "metadata": {
        "id": "WI_H4N2B13P8"
      },
      "execution_count": 11,
      "outputs": []
    },
    {
      "cell_type": "markdown",
      "source": [
        "* Training the Hidden Markov Model (HMM) tagger using the training sentences. It initializes an instance of the HiddenMarkovModelTrainer class and calls the train method with the training sentences as input."
      ],
      "metadata": {
        "id": "CDB2ZtosAYJQ"
      }
    },
    {
      "cell_type": "code",
      "source": [
        "tagger=hmm.HiddenMarkovModelTrainer().train(train_sents)"
      ],
      "metadata": {
        "id": "L_YMkxqB162X"
      },
      "execution_count": 12,
      "outputs": []
    },
    {
      "cell_type": "markdown",
      "source": [
        "* Printing the predicted labels of an example sentence \"The quick brown fox jumps over the lazy dog\"."
      ],
      "metadata": {
        "id": "HpbM0aRDAlA9"
      }
    },
    {
      "cell_type": "code",
      "source": [
        "nltk.download('punkt')\n",
        "# Sample sentence\n",
        "sample_sentence = \"The quick brown fox jumps over the lazy dog\"\n",
        "# Tokenizing\n",
        "tokens = nltk.word_tokenize(sample_sentence)\n",
        "# Tagging the POS tags using the trained HMM tagger\n",
        "predicted_tags = tagger.tag(tokens)\n",
        "print(\"Predicted tags:\")\n",
        "print(predicted_tags)"
      ],
      "metadata": {
        "colab": {
          "base_uri": "https://localhost:8080/"
        },
        "id": "9weRX6Z-8RGi",
        "outputId": "8b03d8b8-41f5-42e4-9971-1334c49b1d78"
      },
      "execution_count": 18,
      "outputs": [
        {
          "output_type": "stream",
          "name": "stdout",
          "text": [
            "Predicted tags:\n",
            "[('The', 'DET'), ('quick', 'ADJ'), ('brown', 'ADJ'), ('fox', 'NOUN'), ('jumps', 'VERB'), ('over', 'ADP'), ('the', 'DET'), ('lazy', 'ADJ'), ('dog', 'NOUN')]\n"
          ]
        },
        {
          "output_type": "stream",
          "name": "stderr",
          "text": [
            "[nltk_data] Downloading package punkt to /root/nltk_data...\n",
            "[nltk_data]   Package punkt is already up-to-date!\n"
          ]
        }
      ]
    },
    {
      "cell_type": "markdown",
      "source": [
        "* Evaluating the performance of the trained HMM tagger on the test set. It calculates the accuracy of the tagger by comparing its predictions with the actual tags in the test set and printing the accuracy score."
      ],
      "metadata": {
        "id": "5hTi4WnHBHZf"
      }
    },
    {
      "cell_type": "code",
      "source": [
        "accuracy=tagger.evaluate(test_sents)\n",
        "print(\"Accuracy:\",accuracy)"
      ],
      "metadata": {
        "colab": {
          "base_uri": "https://localhost:8080/"
        },
        "id": "ESvNrnDQ1-W9",
        "outputId": "ea6c6a7c-dbc6-4576-ad3f-6a7206eb666a"
      },
      "execution_count": 13,
      "outputs": [
        {
          "output_type": "stream",
          "name": "stderr",
          "text": [
            "<ipython-input-13-da9e3de241c9>:1: DeprecationWarning: \n",
            "  Function evaluate() has been deprecated.  Use accuracy(gold)\n",
            "  instead.\n",
            "  accuracy=tagger.evaluate(test_sents)\n"
          ]
        },
        {
          "output_type": "stream",
          "name": "stdout",
          "text": [
            "Accuracy: 0.6854075551099996\n"
          ]
        }
      ]
    }
  ]
}